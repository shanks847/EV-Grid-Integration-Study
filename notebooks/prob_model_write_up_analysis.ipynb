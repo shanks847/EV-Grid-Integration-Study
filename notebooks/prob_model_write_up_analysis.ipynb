{
 "cells": [
  {
   "cell_type": "code",
   "execution_count": 5,
   "outputs": [],
   "source": [
    "import pandas as pd\n",
    "from pandas_profiling import ProfileReport\n",
    "import numpy as np\n",
    "import matplotlib.pyplot as plt"
   ],
   "metadata": {
    "collapsed": false
   }
  },
  {
   "cell_type": "code",
   "execution_count": 12,
   "outputs": [],
   "source": [
    "level_1_charging = pd.read_csv('../data/PEV-Profiles-L1.csv')\n",
    "pev_lev1 = level_1_charging.copy()"
   ],
   "metadata": {
    "collapsed": false
   }
  },
  {
   "cell_type": "code",
   "execution_count": 13,
   "outputs": [
    {
     "data": {
      "text/plain": "                     Vehicle 1  Vehicle 2  Vehicle 3  Vehicle 4  Vehicle 5  \\\nTime                                                                         \n2010-01-01 00:00:00          0          0          0          0          0   \n2010-01-01 00:10:00          0          0          0          0          0   \n2010-01-01 00:20:00          0          0          0          0          0   \n2010-01-01 00:30:00          0          0          0          0          0   \n2010-01-01 00:40:00          0          0          0          0          0   \n\n                     Vehicle 6  Vehicle 7  Vehicle 8  Vehicle 9  Vehicle 10  \\\nTime                                                                          \n2010-01-01 00:00:00          0          0          0          0           0   \n2010-01-01 00:10:00          0          0          0          0           0   \n2010-01-01 00:20:00          0          0          0          0           0   \n2010-01-01 00:30:00          0          0          0          0           0   \n2010-01-01 00:40:00          0          0          0          0           0   \n\n                     ...  Vehicle 339  Vehicle 340  Vehicle 341  Vehicle 342  \\\nTime                 ...                                                       \n2010-01-01 00:00:00  ...            0            0            0            0   \n2010-01-01 00:10:00  ...            0            0            0            0   \n2010-01-01 00:20:00  ...            0            0            0            0   \n2010-01-01 00:30:00  ...            0            0            0            0   \n2010-01-01 00:40:00  ...            0            0            0            0   \n\n                     Vehicle 343  Vehicle 344  Vehicle 345  Vehicle 346  \\\nTime                                                                      \n2010-01-01 00:00:00            0            0            0            0   \n2010-01-01 00:10:00            0            0            0            0   \n2010-01-01 00:20:00            0            0            0            0   \n2010-01-01 00:30:00            0            0            0            0   \n2010-01-01 00:40:00            0            0            0            0   \n\n                     Vehicle 347  Vehicle 348  \nTime                                           \n2010-01-01 00:00:00            0            0  \n2010-01-01 00:10:00            0            0  \n2010-01-01 00:20:00            0            0  \n2010-01-01 00:30:00            0            0  \n2010-01-01 00:40:00            0            0  \n\n[5 rows x 348 columns]",
      "text/html": "<div>\n<style scoped>\n    .dataframe tbody tr th:only-of-type {\n        vertical-align: middle;\n    }\n\n    .dataframe tbody tr th {\n        vertical-align: top;\n    }\n\n    .dataframe thead th {\n        text-align: right;\n    }\n</style>\n<table border=\"1\" class=\"dataframe\">\n  <thead>\n    <tr style=\"text-align: right;\">\n      <th></th>\n      <th>Vehicle 1</th>\n      <th>Vehicle 2</th>\n      <th>Vehicle 3</th>\n      <th>Vehicle 4</th>\n      <th>Vehicle 5</th>\n      <th>Vehicle 6</th>\n      <th>Vehicle 7</th>\n      <th>Vehicle 8</th>\n      <th>Vehicle 9</th>\n      <th>Vehicle 10</th>\n      <th>...</th>\n      <th>Vehicle 339</th>\n      <th>Vehicle 340</th>\n      <th>Vehicle 341</th>\n      <th>Vehicle 342</th>\n      <th>Vehicle 343</th>\n      <th>Vehicle 344</th>\n      <th>Vehicle 345</th>\n      <th>Vehicle 346</th>\n      <th>Vehicle 347</th>\n      <th>Vehicle 348</th>\n    </tr>\n    <tr>\n      <th>Time</th>\n      <th></th>\n      <th></th>\n      <th></th>\n      <th></th>\n      <th></th>\n      <th></th>\n      <th></th>\n      <th></th>\n      <th></th>\n      <th></th>\n      <th></th>\n      <th></th>\n      <th></th>\n      <th></th>\n      <th></th>\n      <th></th>\n      <th></th>\n      <th></th>\n      <th></th>\n      <th></th>\n      <th></th>\n    </tr>\n  </thead>\n  <tbody>\n    <tr>\n      <th>2010-01-01 00:00:00</th>\n      <td>0</td>\n      <td>0</td>\n      <td>0</td>\n      <td>0</td>\n      <td>0</td>\n      <td>0</td>\n      <td>0</td>\n      <td>0</td>\n      <td>0</td>\n      <td>0</td>\n      <td>...</td>\n      <td>0</td>\n      <td>0</td>\n      <td>0</td>\n      <td>0</td>\n      <td>0</td>\n      <td>0</td>\n      <td>0</td>\n      <td>0</td>\n      <td>0</td>\n      <td>0</td>\n    </tr>\n    <tr>\n      <th>2010-01-01 00:10:00</th>\n      <td>0</td>\n      <td>0</td>\n      <td>0</td>\n      <td>0</td>\n      <td>0</td>\n      <td>0</td>\n      <td>0</td>\n      <td>0</td>\n      <td>0</td>\n      <td>0</td>\n      <td>...</td>\n      <td>0</td>\n      <td>0</td>\n      <td>0</td>\n      <td>0</td>\n      <td>0</td>\n      <td>0</td>\n      <td>0</td>\n      <td>0</td>\n      <td>0</td>\n      <td>0</td>\n    </tr>\n    <tr>\n      <th>2010-01-01 00:20:00</th>\n      <td>0</td>\n      <td>0</td>\n      <td>0</td>\n      <td>0</td>\n      <td>0</td>\n      <td>0</td>\n      <td>0</td>\n      <td>0</td>\n      <td>0</td>\n      <td>0</td>\n      <td>...</td>\n      <td>0</td>\n      <td>0</td>\n      <td>0</td>\n      <td>0</td>\n      <td>0</td>\n      <td>0</td>\n      <td>0</td>\n      <td>0</td>\n      <td>0</td>\n      <td>0</td>\n    </tr>\n    <tr>\n      <th>2010-01-01 00:30:00</th>\n      <td>0</td>\n      <td>0</td>\n      <td>0</td>\n      <td>0</td>\n      <td>0</td>\n      <td>0</td>\n      <td>0</td>\n      <td>0</td>\n      <td>0</td>\n      <td>0</td>\n      <td>...</td>\n      <td>0</td>\n      <td>0</td>\n      <td>0</td>\n      <td>0</td>\n      <td>0</td>\n      <td>0</td>\n      <td>0</td>\n      <td>0</td>\n      <td>0</td>\n      <td>0</td>\n    </tr>\n    <tr>\n      <th>2010-01-01 00:40:00</th>\n      <td>0</td>\n      <td>0</td>\n      <td>0</td>\n      <td>0</td>\n      <td>0</td>\n      <td>0</td>\n      <td>0</td>\n      <td>0</td>\n      <td>0</td>\n      <td>0</td>\n      <td>...</td>\n      <td>0</td>\n      <td>0</td>\n      <td>0</td>\n      <td>0</td>\n      <td>0</td>\n      <td>0</td>\n      <td>0</td>\n      <td>0</td>\n      <td>0</td>\n      <td>0</td>\n    </tr>\n  </tbody>\n</table>\n<p>5 rows × 348 columns</p>\n</div>"
     },
     "execution_count": 13,
     "metadata": {},
     "output_type": "execute_result"
    }
   ],
   "source": [
    "#pev_lev1_profile = ProfileReport(level_1_charging, title=\"PEV Profiles for Level 1 Charging\")\n",
    "pev_dt = pd.to_datetime(pev_lev1.pop('Time'))\n",
    "pev_lev1.set_index(pev_dt,inplace=True)\n",
    "pev_lev1.head()"
   ],
   "metadata": {
    "collapsed": false
   }
  }
 ],
 "metadata": {
  "kernelspec": {
   "display_name": "Python 3",
   "language": "python",
   "name": "python3"
  },
  "language_info": {
   "codemirror_mode": {
    "name": "ipython",
    "version": 2
   },
   "file_extension": ".py",
   "mimetype": "text/x-python",
   "name": "python",
   "nbconvert_exporter": "python",
   "pygments_lexer": "ipython2",
   "version": "2.7.6"
  }
 },
 "nbformat": 4,
 "nbformat_minor": 0
}
