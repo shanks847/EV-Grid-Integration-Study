{
  "cells": [
    {
      "cell_type": "code",
      "execution_count": null,
      "metadata": {
        "collapsed": false
      },
      "outputs": [],
      "source": [
        "%matplotlib inline"
      ]
    },
    {
      "cell_type": "markdown",
      "metadata": {},
      "source": [
        "\n# Barycenters\n\nThis example shows three methods to compute barycenters of time series.\nFor an overview over the available methods see the :mod:`tslearn.barycenters`\nmodule.\n\n*tslearn* provides three methods for calculating barycenters for a given set of\ntime series:\n\n* *Euclidean barycenter* is simply the arithmetic mean for\n  each individual point in time, minimizing the summed euclidean distance\n  for each of them. As can be seen below, it is very different from the\n  DTW-based methods and may often be inappropriate. However, it is the\n  fastest of the methods shown.\n* *DTW Barycenter Averaging (DBA)* is an iteratively refined barycenter,\n  starting out with a (potentially) bad candidate and improving it\n  until convergence criteria are met. The optimization can be accomplished\n  with (a) expectation-maximization [1] and (b) stochastic subgradient\n  descent [2]. Empirically, the latter \"is [often] more stable and finds better\n  solutions in shorter time\" [2].\n* *Soft-DTW barycenter* uses a differentiable loss function to iteratively\n  find a barycenter [3]. The method itself and the parameter\n  $\\gamma=1.0$ is described in more detail in the section on\n  `DTW<dtw>`. There is also a dedicated\n  `example<sphx_glr_auto_examples_clustering_plot_barycenter_interpolate.py>`\n  available.\n\n[1] F. Petitjean, A. Ketterlin & P. Gancarski. A global averaging method for\ndynamic time warping, with applications to clustering. Pattern Recognition,\nElsevier, 2011, Vol. 44, Num. 3, pp. 678-693.\n\n[2] D. Schultz & B. Jain. Nonsmooth Analysis and Subgradient Methods for\nAveraging in Dynamic Time Warping Spaces. Pattern Recognition, 74, 340-358.\n\n[3] M. Cuturi & M. Blondel. Soft-DTW: a Differentiable Loss Function for\nTime-Series. ICML 2017.\n"
      ]
    },
    {
      "cell_type": "code",
      "execution_count": null,
      "metadata": {
        "collapsed": false
      },
      "outputs": [],
      "source": [
        "# Author: Romain Tavenard, Felix Divo\n# License: BSD 3 clause\n\nimport numpy\nimport matplotlib.pyplot as plt\n\nfrom tslearn.barycenters import \\\n    euclidean_barycenter, \\\n    dtw_barycenter_averaging, \\\n    dtw_barycenter_averaging_subgradient, \\\n    softdtw_barycenter\nfrom tslearn.datasets import CachedDatasets\n\n# fetch the example data set\nnumpy.random.seed(0)\nX_train, y_train, _, _ = CachedDatasets().load_dataset(\"Trace\")\nX = X_train[y_train == 2]\nlength_of_sequence = X.shape[1]\n\n\ndef plot_helper(barycenter):\n    # plot all points of the data set\n    for series in X:\n        plt.plot(series.ravel(), \"k-\", alpha=.2)\n    # plot the given barycenter of them\n    plt.plot(barycenter.ravel(), \"r-\", linewidth=2)\n\n\n# plot the four variants with the same number of iterations and a tolerance of\n# 1e-3 where applicable\nax1 = plt.subplot(4, 1, 1)\nplt.title(\"Euclidean barycenter\")\nplot_helper(euclidean_barycenter(X))\n\nplt.subplot(4, 1, 2, sharex=ax1)\nplt.title(\"DBA (vectorized version of Petitjean's EM)\")\nplot_helper(dtw_barycenter_averaging(X, max_iter=50, tol=1e-3))\n\nplt.subplot(4, 1, 3, sharex=ax1)\nplt.title(\"DBA (subgradient descent approach)\")\nplot_helper(dtw_barycenter_averaging_subgradient(X, max_iter=50, tol=1e-3))\n\nplt.subplot(4, 1, 4, sharex=ax1)\nplt.title(\"Soft-DTW barycenter ($\\gamma$=1.0)\")\nplot_helper(softdtw_barycenter(X, gamma=1., max_iter=50, tol=1e-3))\n\n# clip the axes for better readability\nax1.set_xlim([0, length_of_sequence])\n\n# show the plot(s)\nplt.tight_layout()\nplt.show()"
      ]
    }
  ],
  "metadata": {
    "kernelspec": {
      "display_name": "Python 3",
      "language": "python",
      "name": "python3"
    },
    "language_info": {
      "codemirror_mode": {
        "name": "ipython",
        "version": 3
      },
      "file_extension": ".py",
      "mimetype": "text/x-python",
      "name": "python",
      "nbconvert_exporter": "python",
      "pygments_lexer": "ipython3",
      "version": "3.8.6"
    }
  },
  "nbformat": 4,
  "nbformat_minor": 0
}