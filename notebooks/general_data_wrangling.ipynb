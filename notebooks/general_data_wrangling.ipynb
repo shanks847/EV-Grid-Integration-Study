{
 "cells": [
  {
   "cell_type": "code",
   "execution_count": 1,
   "metadata": {
    "collapsed": true
   },
   "outputs": [],
   "source": [
    "import pandas as pd\n",
    "import numpy as np"
   ]
  },
  {
   "cell_type": "code",
   "execution_count": 6,
   "outputs": [
    {
     "data": {
      "text/plain": "               P1         P2         P3         P4         P5         P6  \\\nTime                                                                       \n0 min   12.979150  12.979150  12.979150  12.979150  12.979150  12.979150   \n5 min   12.897459  12.897459  12.897459  12.897459  12.897459  12.897459   \n10 min  12.815768  12.815768  12.815768  12.815768  12.815768  12.815768   \n15 min  12.734077  12.734077  12.734077  12.734077  12.734077  12.734077   \n20 min  12.662166  12.662166  12.662166  12.662166  12.662166  12.662166   \n\n               P7         P8         P9        P10  ...       P211       P212  \\\nTime                                                ...                         \n0 min   12.979150  12.979150  12.979150  12.979150  ...  12.979150  12.979150   \n5 min   12.897459  12.897459  12.897459  12.897459  ...  12.897459  12.897459   \n10 min  12.815768  12.815768  12.815768  12.815768  ...  12.815768  12.815768   \n15 min  12.734077  12.734077  12.734077  12.734077  ...  12.734077  12.734077   \n20 min  12.662166  12.662166  12.662166  12.662166  ...  12.662166  12.662166   \n\n             P213       P214       P215       P216       P217       P218  \\\nTime                                                                       \n0 min   12.979150  12.979150  12.979150  12.979150  12.979150  12.979150   \n5 min   12.897459  12.897459  12.897459  12.897459  12.897459  12.897459   \n10 min  12.815768  12.815768  12.815768  12.815768  12.815768  12.815768   \n15 min  12.734077  12.734077  12.734077  12.734077  12.734077  12.734077   \n20 min  12.662166  12.662166  12.662166  12.662166  12.662166  12.662166   \n\n             P219       P220  \nTime                          \n0 min   12.979150  12.979150  \n5 min   12.897459  12.897459  \n10 min  12.815768  12.815768  \n15 min  12.734077  12.734077  \n20 min  12.662166  12.662166  \n\n[5 rows x 220 columns]",
      "text/html": "<div>\n<style scoped>\n    .dataframe tbody tr th:only-of-type {\n        vertical-align: middle;\n    }\n\n    .dataframe tbody tr th {\n        vertical-align: top;\n    }\n\n    .dataframe thead th {\n        text-align: right;\n    }\n</style>\n<table border=\"1\" class=\"dataframe\">\n  <thead>\n    <tr style=\"text-align: right;\">\n      <th></th>\n      <th>P1</th>\n      <th>P2</th>\n      <th>P3</th>\n      <th>P4</th>\n      <th>P5</th>\n      <th>P6</th>\n      <th>P7</th>\n      <th>P8</th>\n      <th>P9</th>\n      <th>P10</th>\n      <th>...</th>\n      <th>P211</th>\n      <th>P212</th>\n      <th>P213</th>\n      <th>P214</th>\n      <th>P215</th>\n      <th>P216</th>\n      <th>P217</th>\n      <th>P218</th>\n      <th>P219</th>\n      <th>P220</th>\n    </tr>\n    <tr>\n      <th>Time</th>\n      <th></th>\n      <th></th>\n      <th></th>\n      <th></th>\n      <th></th>\n      <th></th>\n      <th></th>\n      <th></th>\n      <th></th>\n      <th></th>\n      <th></th>\n      <th></th>\n      <th></th>\n      <th></th>\n      <th></th>\n      <th></th>\n      <th></th>\n      <th></th>\n      <th></th>\n      <th></th>\n      <th></th>\n    </tr>\n  </thead>\n  <tbody>\n    <tr>\n      <th>0 min</th>\n      <td>12.979150</td>\n      <td>12.979150</td>\n      <td>12.979150</td>\n      <td>12.979150</td>\n      <td>12.979150</td>\n      <td>12.979150</td>\n      <td>12.979150</td>\n      <td>12.979150</td>\n      <td>12.979150</td>\n      <td>12.979150</td>\n      <td>...</td>\n      <td>12.979150</td>\n      <td>12.979150</td>\n      <td>12.979150</td>\n      <td>12.979150</td>\n      <td>12.979150</td>\n      <td>12.979150</td>\n      <td>12.979150</td>\n      <td>12.979150</td>\n      <td>12.979150</td>\n      <td>12.979150</td>\n    </tr>\n    <tr>\n      <th>5 min</th>\n      <td>12.897459</td>\n      <td>12.897459</td>\n      <td>12.897459</td>\n      <td>12.897459</td>\n      <td>12.897459</td>\n      <td>12.897459</td>\n      <td>12.897459</td>\n      <td>12.897459</td>\n      <td>12.897459</td>\n      <td>12.897459</td>\n      <td>...</td>\n      <td>12.897459</td>\n      <td>12.897459</td>\n      <td>12.897459</td>\n      <td>12.897459</td>\n      <td>12.897459</td>\n      <td>12.897459</td>\n      <td>12.897459</td>\n      <td>12.897459</td>\n      <td>12.897459</td>\n      <td>12.897459</td>\n    </tr>\n    <tr>\n      <th>10 min</th>\n      <td>12.815768</td>\n      <td>12.815768</td>\n      <td>12.815768</td>\n      <td>12.815768</td>\n      <td>12.815768</td>\n      <td>12.815768</td>\n      <td>12.815768</td>\n      <td>12.815768</td>\n      <td>12.815768</td>\n      <td>12.815768</td>\n      <td>...</td>\n      <td>12.815768</td>\n      <td>12.815768</td>\n      <td>12.815768</td>\n      <td>12.815768</td>\n      <td>12.815768</td>\n      <td>12.815768</td>\n      <td>12.815768</td>\n      <td>12.815768</td>\n      <td>12.815768</td>\n      <td>12.815768</td>\n    </tr>\n    <tr>\n      <th>15 min</th>\n      <td>12.734077</td>\n      <td>12.734077</td>\n      <td>12.734077</td>\n      <td>12.734077</td>\n      <td>12.734077</td>\n      <td>12.734077</td>\n      <td>12.734077</td>\n      <td>12.734077</td>\n      <td>12.734077</td>\n      <td>12.734077</td>\n      <td>...</td>\n      <td>12.734077</td>\n      <td>12.734077</td>\n      <td>12.734077</td>\n      <td>12.734077</td>\n      <td>12.734077</td>\n      <td>12.734077</td>\n      <td>12.734077</td>\n      <td>12.734077</td>\n      <td>12.734077</td>\n      <td>12.734077</td>\n    </tr>\n    <tr>\n      <th>20 min</th>\n      <td>12.662166</td>\n      <td>12.662166</td>\n      <td>12.662166</td>\n      <td>12.662166</td>\n      <td>12.662166</td>\n      <td>12.662166</td>\n      <td>12.662166</td>\n      <td>12.662166</td>\n      <td>12.662166</td>\n      <td>12.662166</td>\n      <td>...</td>\n      <td>12.662166</td>\n      <td>12.662166</td>\n      <td>12.662166</td>\n      <td>12.662166</td>\n      <td>12.662166</td>\n      <td>12.662166</td>\n      <td>12.662166</td>\n      <td>12.662166</td>\n      <td>12.662166</td>\n      <td>12.662166</td>\n    </tr>\n  </tbody>\n</table>\n<p>5 rows × 220 columns</p>\n</div>"
     },
     "execution_count": 6,
     "metadata": {},
     "output_type": "execute_result"
    }
   ],
   "source": [
    "test_scn_penlvl005_df = pd.read_csv('../data/test_scn_005.csv')\n",
    "test_scn_penlvl005_df.set_index(['Time'],inplace=True)\n",
    "#test_scn_penlvl005_df = test_scn_penlvl005_df.transpose()\n",
    "test_scn_penlvl005_df.head()"
   ],
   "metadata": {
    "collapsed": false
   }
  },
  {
   "cell_type": "markdown",
   "source": [
    "# Generating EMTP Scenario Files"
   ],
   "metadata": {
    "collapsed": false
   }
  },
  {
   "cell_type": "code",
   "execution_count": 7,
   "outputs": [],
   "source": [
    "#penetration level = 5%\n",
    "penlvl05_l1_df = pd.read_csv('../data/scenarios/emtp_msk_l1_p05.csv')\n",
    "penlvl05_l1_df.set_index(['Time'],inplace=True)\n",
    "pl05l1 = penlvl05_l1_df.transpose()\n",
    "\n",
    "penlvl05_l2_df = pd.read_csv('../data/scenarios/emtp_msk_l2_p05.csv')\n",
    "penlvl05_l2_df.set_index(['Time'],inplace=True)\n",
    "pl05l2 = penlvl05_l2_df.transpose()\n",
    "\n",
    "penlvl05_l1l2_df = pd.read_csv('../data/scenarios/emtp_msk_l1_and_l2_p05.csv')\n",
    "penlvl05_l1l2_df.set_index(['Time'],inplace=True)\n",
    "pl05l1l2 = penlvl05_l1l2_df.transpose()\n",
    "\n",
    "#penetration level = 10%\n",
    "penlvl10_l1_df = pd.read_csv('../data/scenarios/emtp_msk_l1_p10.csv')\n",
    "penlvl10_l1_df.set_index(['Time'],inplace=True)\n",
    "pl10l1 = penlvl10_l1_df.transpose()\n",
    "\n",
    "penlvl10_l2_df = pd.read_csv('../data/scenarios/emtp_msk_l2_p10.csv')\n",
    "penlvl10_l2_df.set_index(['Time'],inplace=True)\n",
    "pl10l2 = penlvl10_l2_df.transpose()\n",
    "\n",
    "penlvl10_l1l2_df = pd.read_csv('../data/scenarios/emtp_msk_l1_and_l2_p10.csv')\n",
    "penlvl10_l1l2_df.set_index(['Time'],inplace=True)\n",
    "pl10l1l2 = penlvl10_l1l2_df.transpose()\n",
    "\n",
    "#penetration level = 15%\n",
    "penlvl15_l1_df = pd.read_csv('../data/scenarios/emtp_msk_l1_p15.csv')\n",
    "penlvl15_l1_df.set_index(['Time'],inplace=True)\n",
    "pl15l1 = penlvl15_l1_df.transpose()\n",
    "\n",
    "penlvl15_l2_df = pd.read_csv('../data/scenarios/emtp_msk_l2_p15.csv')\n",
    "penlvl15_l2_df.set_index(['Time'],inplace=True)\n",
    "pl15l2 = penlvl15_l2_df.transpose()\n",
    "\n",
    "penlvl15_l1l2_df = pd.read_csv('../data/scenarios/emtp_msk_l1_and_l2_p15.csv')\n",
    "penlvl15_l1l2_df.set_index(['Time'],inplace=True)\n",
    "pl15l1l2 = penlvl15_l1l2_df.transpose()"
   ],
   "metadata": {
    "collapsed": false
   }
  },
  {
   "cell_type": "code",
   "execution_count": 10,
   "outputs": [],
   "source": [
    "pl05l1.to_csv('../data/scenarios/emtp_masks_fmtd/emtp_msk_fmtd_l1_p05.csv')\n",
    "pl05l2.to_csv('../data/scenarios/emtp_masks_fmtd/emtp_msk_fmtd_l2_p05.csv')\n",
    "pl05l1l2.to_csv('../data/scenarios/emtp_masks_fmtd/emtp_msk_fmtd_l1l2_p05.csv')\n",
    "\n",
    "pl10l1.to_csv('../data/scenarios/emtp_masks_fmtd/emtp_msk_fmtd_l1_p10.csv')\n",
    "pl10l2.to_csv('../data/scenarios/emtp_masks_fmtd/emtp_msk_fmtd_l2_p10.csv')\n",
    "pl10l1l2.to_csv('../data/scenarios/emtp_masks_fmtd/emtp_msk_fmtd_l1l2_p10.csv')\n",
    "\n",
    "pl15l1.to_csv('../data/scenarios/emtp_masks_fmtd/emtp_msk_fmtd_l1_p15.csv')\n",
    "pl15l2.to_csv('../data/scenarios/emtp_masks_fmtd/emtp_msk_fmtd_l2_p15.csv')\n",
    "pl15l1l2.to_csv('../data/scenarios/emtp_masks_fmtd/emtp_msk_fmtd_l1l2_p15.csv')\n"
   ],
   "metadata": {
    "collapsed": false
   }
  }
 ],
 "metadata": {
  "kernelspec": {
   "display_name": "Python 3",
   "language": "python",
   "name": "python3"
  },
  "language_info": {
   "codemirror_mode": {
    "name": "ipython",
    "version": 2
   },
   "file_extension": ".py",
   "mimetype": "text/x-python",
   "name": "python",
   "nbconvert_exporter": "python",
   "pygments_lexer": "ipython2",
   "version": "2.7.6"
  }
 },
 "nbformat": 4,
 "nbformat_minor": 0
}
