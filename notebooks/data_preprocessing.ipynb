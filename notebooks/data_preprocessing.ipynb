{
 "cells": [
  {
   "cell_type": "code",
   "execution_count": 2,
   "metadata": {},
   "outputs": [],
   "source": [
    "import pandas as pd\n",
    "import numpy as np"
   ]
  },
  {
   "cell_type": "markdown",
   "source": [
    "# Single Customer on the feeder"
   ],
   "metadata": {
    "collapsed": false
   }
  },
  {
   "cell_type": "code",
   "execution_count": null,
   "metadata": {},
   "outputs": [],
   "source": [
    "df = pd.read_csv('../data/customer_base_load_profile.csv')\n",
    "dfdt = pd.to_datetime(df.pop('Time'))\n",
    "df['Time'] = dfdt\n",
    "df.set_index('Time',inplace=True)\n",
    "df.head()"
   ]
  },
  {
   "cell_type": "code",
   "execution_count": null,
   "metadata": {},
   "outputs": [],
   "source": [
    "downsampled_cbl = df.resample('5T').interpolate(method='linear')"
   ]
  },
  {
   "cell_type": "code",
   "execution_count": null,
   "metadata": {},
   "outputs": [],
   "source": [
    "downsampled_cbl.to_csv('../data/downsampled_cbl.csv')"
   ]
  },
  {
   "cell_type": "code",
   "execution_count": null,
   "metadata": {},
   "outputs": [],
   "source": [
    "bload_aggs = pd.read_csv('../data/mod_bload_agg.csv')\n",
    "bload_aggs.head()"
   ]
  },
  {
   "cell_type": "code",
   "execution_count": null,
   "metadata": {},
   "outputs": [],
   "source": [
    "bload_aggs.plot(x='Idx')"
   ]
  },
  {
   "cell_type": "markdown",
   "source": [
    "# Full Distribution System Downsampling"
   ],
   "metadata": {
    "collapsed": false
   }
  },
  {
   "cell_type": "code",
   "execution_count": 3,
   "metadata": {},
   "outputs": [
    {
     "data": {
      "text/plain": "          Time         P1         P2         P3         P4         P5  \\\n0  12:00:00 AM  12.979150  12.979150  12.979150  12.979150  12.979150   \n1  12:15:00 AM  12.734077  12.734077  12.734077  12.734077  12.734077   \n2  12:30:00 AM  12.518345  12.518345  12.518345  12.518345  12.518345   \n3  12:45:00 AM  12.315946  12.315946  12.315946  12.315946  12.315946   \n4   1:00:00 AM  12.093541  12.093541  12.093541  12.093541  12.093541   \n\n          P6         P7         P8         P9  ...       P211       P212  \\\n0  12.979150  12.979150  12.979150  12.979150  ...  12.979150  12.979150   \n1  12.734077  12.734077  12.734077  12.734077  ...  12.734077  12.734077   \n2  12.518345  12.518345  12.518345  12.518345  ...  12.518345  12.518345   \n3  12.315946  12.315946  12.315946  12.315946  ...  12.315946  12.315946   \n4  12.093541  12.093541  12.093541  12.093541  ...  12.093541  12.093541   \n\n        P213       P214       P215       P216       P217       P218  \\\n0  12.979150  12.979150  12.979150  12.979150  12.979150  12.979150   \n1  12.734077  12.734077  12.734077  12.734077  12.734077  12.734077   \n2  12.518345  12.518345  12.518345  12.518345  12.518345  12.518345   \n3  12.315946  12.315946  12.315946  12.315946  12.315946  12.315946   \n4  12.093541  12.093541  12.093541  12.093541  12.093541  12.093541   \n\n        P219       P220  \n0  12.979150  12.979150  \n1  12.734077  12.734077  \n2  12.518345  12.518345  \n3  12.315946  12.315946  \n4  12.093541  12.093541  \n\n[5 rows x 221 columns]",
      "text/html": "<div>\n<style scoped>\n    .dataframe tbody tr th:only-of-type {\n        vertical-align: middle;\n    }\n\n    .dataframe tbody tr th {\n        vertical-align: top;\n    }\n\n    .dataframe thead th {\n        text-align: right;\n    }\n</style>\n<table border=\"1\" class=\"dataframe\">\n  <thead>\n    <tr style=\"text-align: right;\">\n      <th></th>\n      <th>Time</th>\n      <th>P1</th>\n      <th>P2</th>\n      <th>P3</th>\n      <th>P4</th>\n      <th>P5</th>\n      <th>P6</th>\n      <th>P7</th>\n      <th>P8</th>\n      <th>P9</th>\n      <th>...</th>\n      <th>P211</th>\n      <th>P212</th>\n      <th>P213</th>\n      <th>P214</th>\n      <th>P215</th>\n      <th>P216</th>\n      <th>P217</th>\n      <th>P218</th>\n      <th>P219</th>\n      <th>P220</th>\n    </tr>\n  </thead>\n  <tbody>\n    <tr>\n      <th>0</th>\n      <td>12:00:00 AM</td>\n      <td>12.979150</td>\n      <td>12.979150</td>\n      <td>12.979150</td>\n      <td>12.979150</td>\n      <td>12.979150</td>\n      <td>12.979150</td>\n      <td>12.979150</td>\n      <td>12.979150</td>\n      <td>12.979150</td>\n      <td>...</td>\n      <td>12.979150</td>\n      <td>12.979150</td>\n      <td>12.979150</td>\n      <td>12.979150</td>\n      <td>12.979150</td>\n      <td>12.979150</td>\n      <td>12.979150</td>\n      <td>12.979150</td>\n      <td>12.979150</td>\n      <td>12.979150</td>\n    </tr>\n    <tr>\n      <th>1</th>\n      <td>12:15:00 AM</td>\n      <td>12.734077</td>\n      <td>12.734077</td>\n      <td>12.734077</td>\n      <td>12.734077</td>\n      <td>12.734077</td>\n      <td>12.734077</td>\n      <td>12.734077</td>\n      <td>12.734077</td>\n      <td>12.734077</td>\n      <td>...</td>\n      <td>12.734077</td>\n      <td>12.734077</td>\n      <td>12.734077</td>\n      <td>12.734077</td>\n      <td>12.734077</td>\n      <td>12.734077</td>\n      <td>12.734077</td>\n      <td>12.734077</td>\n      <td>12.734077</td>\n      <td>12.734077</td>\n    </tr>\n    <tr>\n      <th>2</th>\n      <td>12:30:00 AM</td>\n      <td>12.518345</td>\n      <td>12.518345</td>\n      <td>12.518345</td>\n      <td>12.518345</td>\n      <td>12.518345</td>\n      <td>12.518345</td>\n      <td>12.518345</td>\n      <td>12.518345</td>\n      <td>12.518345</td>\n      <td>...</td>\n      <td>12.518345</td>\n      <td>12.518345</td>\n      <td>12.518345</td>\n      <td>12.518345</td>\n      <td>12.518345</td>\n      <td>12.518345</td>\n      <td>12.518345</td>\n      <td>12.518345</td>\n      <td>12.518345</td>\n      <td>12.518345</td>\n    </tr>\n    <tr>\n      <th>3</th>\n      <td>12:45:00 AM</td>\n      <td>12.315946</td>\n      <td>12.315946</td>\n      <td>12.315946</td>\n      <td>12.315946</td>\n      <td>12.315946</td>\n      <td>12.315946</td>\n      <td>12.315946</td>\n      <td>12.315946</td>\n      <td>12.315946</td>\n      <td>...</td>\n      <td>12.315946</td>\n      <td>12.315946</td>\n      <td>12.315946</td>\n      <td>12.315946</td>\n      <td>12.315946</td>\n      <td>12.315946</td>\n      <td>12.315946</td>\n      <td>12.315946</td>\n      <td>12.315946</td>\n      <td>12.315946</td>\n    </tr>\n    <tr>\n      <th>4</th>\n      <td>1:00:00 AM</td>\n      <td>12.093541</td>\n      <td>12.093541</td>\n      <td>12.093541</td>\n      <td>12.093541</td>\n      <td>12.093541</td>\n      <td>12.093541</td>\n      <td>12.093541</td>\n      <td>12.093541</td>\n      <td>12.093541</td>\n      <td>...</td>\n      <td>12.093541</td>\n      <td>12.093541</td>\n      <td>12.093541</td>\n      <td>12.093541</td>\n      <td>12.093541</td>\n      <td>12.093541</td>\n      <td>12.093541</td>\n      <td>12.093541</td>\n      <td>12.093541</td>\n      <td>12.093541</td>\n    </tr>\n  </tbody>\n</table>\n<p>5 rows × 221 columns</p>\n</div>"
     },
     "execution_count": 3,
     "metadata": {},
     "output_type": "execute_result"
    }
   ],
   "source": [
    "customer_utilization = pd.read_csv('../data/customer_power_utilization_dummy_data.csv')\n",
    "customer_utilization.head()"
   ]
  },
  {
   "cell_type": "code",
   "execution_count": 4,
   "metadata": {},
   "outputs": [],
   "source": [
    "cutil_dt = customer_utilization.pop('Time')\n",
    "cutil_dt = pd.to_datetime(cutil_dt)\n",
    "customer_utilization['Time'] = cutil_dt\n",
    "customer_utilization.set_index('Time',inplace=True)\n",
    "customer_utilization.to_csv('../data/customer_utilization_xformed.csv')"
   ]
  },
  {
   "cell_type": "code",
   "execution_count": 5,
   "metadata": {},
   "outputs": [],
   "source": [
    "customer_utilization_hres =  customer_utilization.resample('5T').interpolate(method='linear')"
   ]
  },
  {
   "cell_type": "code",
   "execution_count": 6,
   "outputs": [],
   "source": [
    "customer_utilization_hres.to_csv('../data/customer_utilization_hres.csv')"
   ],
   "metadata": {
    "collapsed": false
   }
  }
 ],
 "metadata": {
  "kernelspec": {
   "display_name": "Python 3.10.7 64-bit",
   "language": "python",
   "name": "python3"
  },
  "language_info": {
   "codemirror_mode": {
    "name": "ipython",
    "version": 3
   },
   "file_extension": ".py",
   "mimetype": "text/x-python",
   "name": "python",
   "nbconvert_exporter": "python",
   "pygments_lexer": "ipython3",
   "version": "3.10.7"
  },
  "orig_nbformat": 4,
  "vscode": {
   "interpreter": {
    "hash": "69049c67f88e64c9000ae81bbbd2450d0966eed6dc2f6fda56150e8480300b86"
   }
  }
 },
 "nbformat": 4,
 "nbformat_minor": 2
}
