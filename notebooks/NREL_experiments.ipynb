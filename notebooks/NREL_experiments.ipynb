{
 "cells": [
  {
   "cell_type": "code",
   "execution_count": 6,
   "metadata": {},
   "outputs": [
    {
     "name": "stdout",
     "output_type": "stream",
     "text": [
      "2023-05-01    221\n",
      "2023-05-02    219\n",
      "2023-05-03    205\n",
      "2023-05-04    209\n",
      "2023-05-05    206\n",
      "2023-05-06    219\n",
      "2023-05-07    219\n",
      "2023-05-08      0\n",
      "Freq: D, dtype: int64\n"
     ]
    }
   ],
   "source": [
    "import pandas as pd\n",
    "import numpy as np\n",
    "\n",
    "import pandas as pd\n",
    "\n",
    "def calculate_total_charging_duration(df, min_periods=3):\n",
    "    # Resample the DataFrame to daily frequency and calculate the sum of consecutive periods\n",
    "    daily_sum = df.resample('D').sum()\n",
    "    \n",
    "    # Filter out charging events without at least the minimum number of consecutive periods\n",
    "    filtered_sum = daily_sum.mask(daily_sum < min_periods, 0)\n",
    "    \n",
    "    # Calculate the total charging duration for each day\n",
    "    total_duration = filtered_sum.sum(axis=1)\n",
    "    \n",
    "    return total_duration\n",
    "\n",
    "\n",
    "# Generate dummy data\n",
    "np.random.seed(42)\n",
    "num_vehicles = 3\n",
    "start_date = '2023-05-01'\n",
    "end_date = '2023-05-08'\n",
    "time_interval = '10T'\n",
    "\n",
    "dates = pd.date_range(start=start_date, end=end_date, freq=time_interval)\n",
    "data = np.random.choice([0, 1], size=(len(dates), num_vehicles))\n",
    "\n",
    "df = pd.DataFrame(data, index=dates, columns=[f'Vehicle {i+1}' for i in range(num_vehicles)])\n",
    "\n",
    "# Test the calculate_total_charging_duration function\n",
    "total_charging_duration = calculate_total_charging_duration(df)\n",
    "print(total_charging_duration)\n"
   ]
  },
  {
   "cell_type": "code",
   "execution_count": 7,
   "metadata": {},
   "outputs": [],
   "source": [
    "df.to_csv('NREL-TESTING.csv')"
   ]
  }
 ],
 "metadata": {
  "kernelspec": {
   "display_name": "gpu_acc",
   "language": "python",
   "name": "python3"
  },
  "language_info": {
   "codemirror_mode": {
    "name": "ipython",
    "version": 3
   },
   "file_extension": ".py",
   "mimetype": "text/x-python",
   "name": "python",
   "nbconvert_exporter": "python",
   "pygments_lexer": "ipython3",
   "version": "3.10.9"
  },
  "orig_nbformat": 4
 },
 "nbformat": 4,
 "nbformat_minor": 2
}
